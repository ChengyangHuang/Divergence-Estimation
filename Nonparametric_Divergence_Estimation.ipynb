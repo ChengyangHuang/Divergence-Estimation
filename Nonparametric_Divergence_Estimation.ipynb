{
  "nbformat": 4,
  "nbformat_minor": 0,
  "metadata": {
    "colab": {
      "name": "Nonparametric Divergence Estimation.ipynb",
      "provenance": [],
      "authorship_tag": "ABX9TyNKEWYsnt4L1wLSWhGTpN1I",
      "include_colab_link": true
    },
    "kernelspec": {
      "name": "python3",
      "display_name": "Python 3"
    },
    "widgets": {
      "application/vnd.jupyter.widget-state+json": {
        "7e303a55a8c64ca99d9b41643d5df804": {
          "model_module": "@jupyter-widgets/controls",
          "model_name": "HBoxModel",
          "state": {
            "_view_name": "HBoxView",
            "_dom_classes": [],
            "_model_name": "HBoxModel",
            "_view_module": "@jupyter-widgets/controls",
            "_model_module_version": "1.5.0",
            "_view_count": null,
            "_view_module_version": "1.5.0",
            "box_style": "",
            "layout": "IPY_MODEL_f448850e69df4c2f9d2b250519bb8159",
            "_model_module": "@jupyter-widgets/controls",
            "children": [
              "IPY_MODEL_78f81c784e4640998e36b02c5cad33be",
              "IPY_MODEL_3eb4ec791b984f3a80a0212df77c7db9"
            ]
          }
        },
        "f448850e69df4c2f9d2b250519bb8159": {
          "model_module": "@jupyter-widgets/base",
          "model_name": "LayoutModel",
          "state": {
            "_view_name": "LayoutView",
            "grid_template_rows": null,
            "right": null,
            "justify_content": null,
            "_view_module": "@jupyter-widgets/base",
            "overflow": null,
            "_model_module_version": "1.2.0",
            "_view_count": null,
            "flex_flow": null,
            "width": null,
            "min_width": null,
            "border": null,
            "align_items": null,
            "bottom": null,
            "_model_module": "@jupyter-widgets/base",
            "top": null,
            "grid_column": null,
            "overflow_y": null,
            "overflow_x": null,
            "grid_auto_flow": null,
            "grid_area": null,
            "grid_template_columns": null,
            "flex": null,
            "_model_name": "LayoutModel",
            "justify_items": null,
            "grid_row": null,
            "max_height": null,
            "align_content": null,
            "visibility": null,
            "align_self": null,
            "height": null,
            "min_height": null,
            "padding": null,
            "grid_auto_rows": null,
            "grid_gap": null,
            "max_width": null,
            "order": null,
            "_view_module_version": "1.2.0",
            "grid_template_areas": null,
            "object_position": null,
            "object_fit": null,
            "grid_auto_columns": null,
            "margin": null,
            "display": null,
            "left": null
          }
        },
        "78f81c784e4640998e36b02c5cad33be": {
          "model_module": "@jupyter-widgets/controls",
          "model_name": "FloatProgressModel",
          "state": {
            "_view_name": "ProgressView",
            "style": "IPY_MODEL_d4949a5bd0e14d799e5371fe03594417",
            "_dom_classes": [],
            "description": "100%",
            "_model_name": "FloatProgressModel",
            "bar_style": "success",
            "max": 5,
            "_view_module": "@jupyter-widgets/controls",
            "_model_module_version": "1.5.0",
            "value": 5,
            "_view_count": null,
            "_view_module_version": "1.5.0",
            "orientation": "horizontal",
            "min": 0,
            "description_tooltip": null,
            "_model_module": "@jupyter-widgets/controls",
            "layout": "IPY_MODEL_bd42356e4afd4f90bcbb4aacdc8d26b4"
          }
        },
        "3eb4ec791b984f3a80a0212df77c7db9": {
          "model_module": "@jupyter-widgets/controls",
          "model_name": "HTMLModel",
          "state": {
            "_view_name": "HTMLView",
            "style": "IPY_MODEL_96d66b83e7ac421290914ab4eff8c77f",
            "_dom_classes": [],
            "description": "",
            "_model_name": "HTMLModel",
            "placeholder": "​",
            "_view_module": "@jupyter-widgets/controls",
            "_model_module_version": "1.5.0",
            "value": " 5/5 [04:41&lt;00:00, 56.24s/it]",
            "_view_count": null,
            "_view_module_version": "1.5.0",
            "description_tooltip": null,
            "_model_module": "@jupyter-widgets/controls",
            "layout": "IPY_MODEL_a71c003c3d804e4395f8b7917782ec82"
          }
        },
        "d4949a5bd0e14d799e5371fe03594417": {
          "model_module": "@jupyter-widgets/controls",
          "model_name": "ProgressStyleModel",
          "state": {
            "_view_name": "StyleView",
            "_model_name": "ProgressStyleModel",
            "description_width": "initial",
            "_view_module": "@jupyter-widgets/base",
            "_model_module_version": "1.5.0",
            "_view_count": null,
            "_view_module_version": "1.2.0",
            "bar_color": null,
            "_model_module": "@jupyter-widgets/controls"
          }
        },
        "bd42356e4afd4f90bcbb4aacdc8d26b4": {
          "model_module": "@jupyter-widgets/base",
          "model_name": "LayoutModel",
          "state": {
            "_view_name": "LayoutView",
            "grid_template_rows": null,
            "right": null,
            "justify_content": null,
            "_view_module": "@jupyter-widgets/base",
            "overflow": null,
            "_model_module_version": "1.2.0",
            "_view_count": null,
            "flex_flow": null,
            "width": null,
            "min_width": null,
            "border": null,
            "align_items": null,
            "bottom": null,
            "_model_module": "@jupyter-widgets/base",
            "top": null,
            "grid_column": null,
            "overflow_y": null,
            "overflow_x": null,
            "grid_auto_flow": null,
            "grid_area": null,
            "grid_template_columns": null,
            "flex": null,
            "_model_name": "LayoutModel",
            "justify_items": null,
            "grid_row": null,
            "max_height": null,
            "align_content": null,
            "visibility": null,
            "align_self": null,
            "height": null,
            "min_height": null,
            "padding": null,
            "grid_auto_rows": null,
            "grid_gap": null,
            "max_width": null,
            "order": null,
            "_view_module_version": "1.2.0",
            "grid_template_areas": null,
            "object_position": null,
            "object_fit": null,
            "grid_auto_columns": null,
            "margin": null,
            "display": null,
            "left": null
          }
        },
        "96d66b83e7ac421290914ab4eff8c77f": {
          "model_module": "@jupyter-widgets/controls",
          "model_name": "DescriptionStyleModel",
          "state": {
            "_view_name": "StyleView",
            "_model_name": "DescriptionStyleModel",
            "description_width": "",
            "_view_module": "@jupyter-widgets/base",
            "_model_module_version": "1.5.0",
            "_view_count": null,
            "_view_module_version": "1.2.0",
            "_model_module": "@jupyter-widgets/controls"
          }
        },
        "a71c003c3d804e4395f8b7917782ec82": {
          "model_module": "@jupyter-widgets/base",
          "model_name": "LayoutModel",
          "state": {
            "_view_name": "LayoutView",
            "grid_template_rows": null,
            "right": null,
            "justify_content": null,
            "_view_module": "@jupyter-widgets/base",
            "overflow": null,
            "_model_module_version": "1.2.0",
            "_view_count": null,
            "flex_flow": null,
            "width": null,
            "min_width": null,
            "border": null,
            "align_items": null,
            "bottom": null,
            "_model_module": "@jupyter-widgets/base",
            "top": null,
            "grid_column": null,
            "overflow_y": null,
            "overflow_x": null,
            "grid_auto_flow": null,
            "grid_area": null,
            "grid_template_columns": null,
            "flex": null,
            "_model_name": "LayoutModel",
            "justify_items": null,
            "grid_row": null,
            "max_height": null,
            "align_content": null,
            "visibility": null,
            "align_self": null,
            "height": null,
            "min_height": null,
            "padding": null,
            "grid_auto_rows": null,
            "grid_gap": null,
            "max_width": null,
            "order": null,
            "_view_module_version": "1.2.0",
            "grid_template_areas": null,
            "object_position": null,
            "object_fit": null,
            "grid_auto_columns": null,
            "margin": null,
            "display": null,
            "left": null
          }
        }
      }
    }
  },
  "cells": [
    {
      "cell_type": "markdown",
      "metadata": {
        "id": "view-in-github",
        "colab_type": "text"
      },
      "source": [
        "<a href=\"https://colab.research.google.com/github/ChengyangHuang/Divergence-Estimation/blob/main/Nonparametric_Divergence_Estimation.ipynb\" target=\"_parent\"><img src=\"https://colab.research.google.com/assets/colab-badge.svg\" alt=\"Open In Colab\"/></a>"
      ]
    },
    {
      "cell_type": "markdown",
      "metadata": {
        "id": "scqcu0WWjjS3"
      },
      "source": [
        "# Divergence Estimator"
      ]
    },
    {
      "cell_type": "code",
      "metadata": {
        "id": "x6Ak01I0Zkl4"
      },
      "source": [
        "import numpy as np\n",
        "import math\n",
        "\n",
        "from scipy.spatial import distance_matrix\n",
        "from scipy.special import gamma\n",
        "\n",
        "from sklearn.neighbors import KernelDensity\n",
        "from sklearn.neighbors import NearestNeighbors\n",
        "\n",
        "import cvxpy as cp \n",
        "\n",
        "from tqdm.notebook import  tqdm\n",
        "import matplotlib.pyplot as plt\n",
        "\n",
        "import warnings\n",
        "warnings.filterwarnings('ignore')\n",
        "\n",
        "\n",
        "class divergence_estimator():\n",
        "    def __init__(self, rvs_1, rvs_2):\n",
        "        assert rvs_1.shape[1] == rvs_2.shape[1]\n",
        "        self.rvs_1 = rvs_1\n",
        "        self.rvs_2 = rvs_2\n",
        "        self.N = rvs_1.shape[0]\n",
        "        self.M = rvs_2.shape[0]\n",
        "        self.d = rvs_1.shape[1]\n",
        "        \n",
        "\n",
        "    def kl_intg(self):\n",
        "        pass\n",
        "\n",
        "    def renyi_alpha_intg(self):\n",
        "        pass\n",
        "\n",
        "\n",
        "class endive_kde(divergence_estimator):\n",
        "    \"\"\"\n",
        "        Ensemble estimation of information divergence\n",
        "        https://www.mdpi.com/1099-4300/20/8/560\n",
        "    \"\"\"\n",
        "    def __init__(self, rvs_1, rvs_2, kmin=1, kmax=50, L=60, eta=1, delta=1):\n",
        "        super().__init__(rvs_1, rvs_2)\n",
        "        rvs_all = np.vstack((rvs_1, rvs_2))\n",
        "        knn = NearestNeighbors(n_neighbors=kmax).fit(rvs_all)\n",
        "        neigh_dist = knn.kneighbors()[0]\n",
        "        lmin = neigh_dist[:, kmin].max() / (self.N ** (-1 / (self.d + delta)))\n",
        "        lmax = neigh_dist[:, -1].max() / (self.N ** (-1 / (self.d + delta)))\n",
        "        L_set = np.linspace(lmin, lmax, L)\n",
        "\n",
        "        lam = math.ceil(self.d / delta) + 1\n",
        "        s = math.ceil((self.d + delta) / 2) \n",
        "        eps = cp.Variable()\n",
        "        w = cp.Variable(L)\n",
        "        objective = cp.Minimize(eps)\n",
        "        constraints = [np.ones((1, L)) @ w == 1,\n",
        "                       cp.norm(w, 2) ** 2 <= eta * eps]\n",
        "\n",
        "        for q in range(math.ceil(lam / 2) + 1):\n",
        "            for j in range(s+1):\n",
        "                if (j + q) > 0 and (j + q) < ((self.d + 1) / 2):\n",
        "                    constraints.append(self.N ** (-(j+q)/(self.d+1) + 1/2) * (w @ (L_set**(j - self.d * q)) ) <= eps)\n",
        "\n",
        "        problem = cp.Problem(objective, constraints)\n",
        "        problem.solve()\n",
        "\n",
        "        self.delta = delta\n",
        "        self.L_set = L_set\n",
        "        self.weight = w.value\n",
        "\n",
        "    def renyi_alpha_intg(self, alpha=0.5, kernel='tophat'):\n",
        "        renyi_KDE = []\n",
        "        for l in self.L_set:\n",
        "            kde_1 = KernelDensity(kernel=kernel, bandwidth=(l*self.N**(-1/(self.d+self.delta)))).fit(self.rvs_1)\n",
        "            kde_2 = KernelDensity(kernel=kernel, bandwidth=(l*self.N**(-1/(self.d+self.delta)))).fit(self.rvs_2)\n",
        "            f1_pdf = np.exp(kde_1.score_samples(self.rvs_1))\n",
        "            f2_pdf = np.exp(kde_2.score_samples(self.rvs_1))\n",
        "            renyi_KDE.append(np.dot((f1_pdf ** alpha), (f2_pdf ** (1-alpha))) / self.N)\n",
        "\n",
        "        renyi_KDE = np.array(renyi_KDE)\n",
        "        renyi_EnDive = np.dot(self.weight, renyi_KDE)\n",
        "        return renyi_EnDive, renyi_KDE\n",
        "\n",
        "\n",
        "class knn_estimator(divergence_estimator):\n",
        "    def __init__(self, rvs_1, rvs_2, n_neighbors):\n",
        "        super().__init__(rvs_1, rvs_2)\n",
        "        self.k = n_neighbors\n",
        "\n",
        "    def kl_intg(self):\n",
        "        pass\n",
        "\n",
        "    def renyi_alpha_intg(self, alpha=0.5, fast=True):\n",
        "        \"\"\"\n",
        "            Nonparametric Divergence Estimation with Applications to Machine Learning on Distributions\n",
        "            https://arxiv.org/abs/1202.3758\n",
        "        \"\"\"\n",
        "        B = gamma(self.k)**2 / (gamma(self.k - alpha + 1) * gamma(self.k + alpha - 1))\n",
        "        if fast:\n",
        "            self.knn_1 = NearestNeighbors(n_neighbors=self.k, algorithm='auto').fit(self.rvs_1)\n",
        "            self.knn_2 = NearestNeighbors(n_neighbors=self.k, algorithm='auto').fit(self.rvs_2)\n",
        "            rho = self.knn_1.kneighbors(self.rvs_1)[0][:, -1]\n",
        "            nu = self.knn_2.kneighbors(self.rvs_1)[0][:, -1]\n",
        "        else:\n",
        "            dist_mat_11 = distance_matrix(self.rvs_1, self.rvs_1)\n",
        "            dist_mat_12 = distance_matrix(self.rvs_1, self.rvs_2)\n",
        "            dist_mat_11.sort(axis=1)\n",
        "            dist_mat_12.sort(axis=1)\n",
        "            rho = dist_mat_11[:, self.k]\n",
        "            nu = dist_mat_12[:, self.k-1]\n",
        "\n",
        "        renyi_alpha = B / self.N * np.sum(np.divide((self.N-1)*rho**self.d, self.M*nu**self.d)**(1-alpha))\n",
        "        return renyi_alpha"
      ],
      "execution_count": 1,
      "outputs": []
    },
    {
      "cell_type": "markdown",
      "metadata": {
        "id": "V8AYM9WSjp4H"
      },
      "source": [
        "# Experiments"
      ]
    },
    {
      "cell_type": "markdown",
      "metadata": {
        "id": "ningnvjrlEh7"
      },
      "source": [
        "## Convergence Rates Validation: Rényi-α Divergence"
      ]
    },
    {
      "cell_type": "markdown",
      "metadata": {
        "id": "I2iSBB_3nh3D"
      },
      "source": [
        "### Truncated Gaussian"
      ]
    },
    {
      "cell_type": "code",
      "metadata": {
        "colab": {
          "base_uri": "https://localhost:8080/"
        },
        "id": "Tt66cYjejis_",
        "outputId": "2b96af6e-f648-41cb-a145-5f23f93a436b"
      },
      "source": [
        "from scipy.stats import truncnorm\n",
        "import scipy.integrate as integrate    \n",
        "\n",
        "\n",
        "def renyi_alpha_div_integral(alpha, p, q, a, b, N=None):\n",
        "    if N == None:\n",
        "        return integrate.quad(lambda x: (p(x) ** alpha) * (q(x) ** (1 - alpha)), a, b)\n",
        "    else:\n",
        "        x = np.linspace(a, b, N)\n",
        "        return np.dot(p(x) ** alpha, q(x) ** (1 - alpha)) / N\n",
        "\n",
        "\n",
        "def kl_div_integral(p, q, a, b, N=None):\n",
        "    if N == None:\n",
        "        return integrate.quad(lambda x: p(x) * math.log(p(x)/q(x)), a, b)\n",
        "    else:\n",
        "       x = np.linspace(a, b, N)\n",
        "       return np.dot(p(x), np.log(p(x)/q(x))) / N\n",
        "\n",
        "\n",
        "def truncated_Gaussian_experiment(d=5, N=2000, \n",
        "                                  mu_1=0.7, sigma_1=np.sqrt(0.4),\n",
        "                                  mu_2=0.3, sigma_2=np.sqrt(0.4),\n",
        "                                  a=0, b=1):\n",
        "    \n",
        "    a_1, b_1 = (a - mu_1) / sigma_1, (b - mu_1) / sigma_1\n",
        "    a_2, b_2 = (a - mu_2) / sigma_2, (b - mu_2) / sigma_2\n",
        "\n",
        "    f_1 = truncnorm(a_1, b_1, mu_1, sigma_1)\n",
        "    f_2 = truncnorm(a_2, b_2, mu_2, sigma_2)\n",
        "    rvs_1 = f_1.rvs(size=(N, d))\n",
        "    rvs_2 = f_2.rvs(size=(N, d))\n",
        "\n",
        "    # # Plot PDF\n",
        "    # x = np.linspace(a, b, 1000)\n",
        "    # pdf_1 = f_1.pdf(x)\n",
        "    # pdf_2 = f_2.pdf(x)\n",
        "    # fig, ax = plt.subplots(1, 1)\n",
        "    # ax.plot(x, f_1.pdf(x), label='f1')\n",
        "    # ax.plot(x, f_2.pdf(x), label='f2')\n",
        "    # ax.set_ylabel(\"pdf\")\n",
        "    # ax.legend()\n",
        "\n",
        "    # Renyi-alpha\n",
        "    renyi_alpha_dict = {}\n",
        "    alpha = 0.5 \n",
        "    renyi_alpha_dict[\"GT_intg\"] = renyi_alpha_div_integral(alpha, f_1.pdf, f_2. pdf, a, b)[0]**d\n",
        "    renyi_alpha_dict[\"GT_est\"] = renyi_alpha_div_integral(alpha, f_1.pdf, f_2. pdf, a, b, N)**d\n",
        "    \n",
        "    knn_divest = knn_estimator(rvs_1, rvs_2, 20)\n",
        "    renyi_alpha_dict[\"knn_fast\"] = knn_divest.renyi_alpha_intg(alpha, fast=True)\n",
        "    renyi_alpha_dict[\"knn_brute\"] = knn_divest.renyi_alpha_intg(alpha, fast=False)\n",
        "    \n",
        "    endive_divest = endive_kde(rvs_1, rvs_2)\n",
        "    renyi_endive, renyi_kde = endive_divest.renyi_alpha_intg(alpha)\n",
        "    renyi_alpha_dict[\"endive_kde\"] = renyi_endive\n",
        "    renyi_alpha_dict[\"kde_best\"] = renyi_kde[((renyi_kde - renyi_alpha_dict[\"GT_intg\"])**2).argmin()]\n",
        "\n",
        "    # KL\n",
        "    kl_gt1 = kl_div_integral(f_1.pdf, f_2. pdf, a, b)[0]\n",
        "    kl_gt2 = kl_div_integral(f_1.pdf, f_2. pdf, a, b, 1000)\n",
        "\n",
        "    return renyi_alpha_dict\n",
        "\n",
        "\n",
        "truncated_Gaussian_experiment()"
      ],
      "execution_count": 2,
      "outputs": [
        {
          "output_type": "execute_result",
          "data": {
            "text/plain": [
              "{'GT_est': 0.9528751587084865,\n",
              " 'GT_intg': 0.9533316996544592,\n",
              " 'endive_kde': 0.9068481886457284,\n",
              " 'kde_best': 0.6771906672446735,\n",
              " 'knn_brute': 0.9593546818267554,\n",
              " 'knn_fast': 0.932249139592021}"
            ]
          },
          "metadata": {
            "tags": []
          },
          "execution_count": 2
        }
      ]
    },
    {
      "cell_type": "code",
      "metadata": {
        "colab": {
          "base_uri": "https://localhost:8080/",
          "height": 458,
          "referenced_widgets": [
            "7e303a55a8c64ca99d9b41643d5df804",
            "f448850e69df4c2f9d2b250519bb8159",
            "78f81c784e4640998e36b02c5cad33be",
            "3eb4ec791b984f3a80a0212df77c7db9",
            "d4949a5bd0e14d799e5371fe03594417",
            "bd42356e4afd4f90bcbb4aacdc8d26b4",
            "96d66b83e7ac421290914ab4eff8c77f",
            "a71c003c3d804e4395f8b7917782ec82"
          ]
        },
        "id": "xpSKfI4mY0Jh",
        "outputId": "68d17c49-31e3-4cd6-c389-c50d90cfba43"
      },
      "source": [
        "def convergence_validation():\n",
        "    d_list = [5]\n",
        "    N_list = [100, 500, 1000, 5000, 10000]\n",
        "\n",
        "    for d in d_list:\n",
        "        result_dict = {}\n",
        "        for N in tqdm(N_list):\n",
        "            renyi_alpha_dict = truncated_Gaussian_experiment(d, N)\n",
        "            for key, value in renyi_alpha_dict.items():\n",
        "                if key in result_dict.keys():\n",
        "                    result_dict[key].append(renyi_alpha_dict[key])\n",
        "                else:\n",
        "                    result_dict[key] = [renyi_alpha_dict[key]]\n",
        "\n",
        "        fig, ax = plt.subplots(1, 2, figsize=(12, 6))\n",
        "        for key, value in result_dict.items():\n",
        "            if key != 'GT_intg':\n",
        "                gt = np.array(result_dict['GT_intg'])\n",
        "                value = np.array(value)\n",
        "                ax[0].semilogx(N_list, value, label=key)\n",
        "                ax[1].loglog(N_list, (gt - value)**2, label=key)\n",
        "            else:\n",
        "                ax[0].semilogx(N_list, value, label=key, color=\"black\")\n",
        "        ax[0].legend()\n",
        "        ax[0].set_xlabel(\"Sample Size N\")\n",
        "        ax[0].set_ylabel(\"Renyi Alpha Integral\")\n",
        "        ax[0].set_title(f\"Dimension d = {d}\")\n",
        "\n",
        "        ax[1].legend()\n",
        "        ax[1].set_xlabel(\"Sample Size N\")\n",
        "        ax[1].set_ylabel(\"MSE\")\n",
        "        ax[1].set_title(f\"Dimension d = {d}\")\n",
        "        plt.show()\n",
        "\n",
        "\n",
        "convergence_validation()    "
      ],
      "execution_count": 3,
      "outputs": [
        {
          "output_type": "display_data",
          "data": {
            "application/vnd.jupyter.widget-view+json": {
              "model_id": "7e303a55a8c64ca99d9b41643d5df804",
              "version_minor": 0,
              "version_major": 2
            },
            "text/plain": [
              "HBox(children=(FloatProgress(value=0.0, max=5.0), HTML(value='')))"
            ]
          },
          "metadata": {
            "tags": []
          }
        },
        {
          "output_type": "stream",
          "text": [
            "\n"
          ],
          "name": "stdout"
        },
        {
          "output_type": "display_data",
          "data": {
            "image/png": "[encoded data removed]",
            "text/plain": [
              "<Figure size 864x432 with 2 Axes>"
            ]
          },
          "metadata": {
            "tags": [],
            "needs_background": "light"
          }
        }
      ]
    }
  ]
}