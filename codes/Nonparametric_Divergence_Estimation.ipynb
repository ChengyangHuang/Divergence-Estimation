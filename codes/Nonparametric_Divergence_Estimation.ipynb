{
  "nbformat": 4,
  "nbformat_minor": 0,
  "metadata": {
    "colab": {
      "name": "Nonparametric Divergence Estimation.ipynb",
      "provenance": [],
      "collapsed_sections": [],
      "authorship_tag": "ABX9TyMy5os5GF+bEw+2MWq/xkHw",
      "include_colab_link": true
    },
    "kernelspec": {
      "name": "python3",
      "display_name": "Python 3"
    },
    "widgets": {
      "application/vnd.jupyter.widget-state+json": {
        "2f76a4ebdf664b0989a41ae66f43a9fa": {
          "model_module": "@jupyter-widgets/controls",
          "model_name": "HBoxModel",
          "state": {
            "_view_name": "HBoxView",
            "_dom_classes": [],
            "_model_name": "HBoxModel",
            "_view_module": "@jupyter-widgets/controls",
            "_model_module_version": "1.5.0",
            "_view_count": null,
            "_view_module_version": "1.5.0",
            "box_style": "",
            "layout": "IPY_MODEL_600c51ebf7434e3bb510cb2929d8ff6c",
            "_model_module": "@jupyter-widgets/controls",
            "children": [
              "IPY_MODEL_b580aab76311420cae712a5d01833dee",
              "IPY_MODEL_7d75006a84f749beab438e4e1b16bd8c"
            ]
          }
        },
        "600c51ebf7434e3bb510cb2929d8ff6c": {
          "model_module": "@jupyter-widgets/base",
          "model_name": "LayoutModel",
          "state": {
            "_view_name": "LayoutView",
            "grid_template_rows": null,
            "right": null,
            "justify_content": null,
            "_view_module": "@jupyter-widgets/base",
            "overflow": null,
            "_model_module_version": "1.2.0",
            "_view_count": null,
            "flex_flow": null,
            "width": null,
            "min_width": null,
            "border": null,
            "align_items": null,
            "bottom": null,
            "_model_module": "@jupyter-widgets/base",
            "top": null,
            "grid_column": null,
            "overflow_y": null,
            "overflow_x": null,
            "grid_auto_flow": null,
            "grid_area": null,
            "grid_template_columns": null,
            "flex": null,
            "_model_name": "LayoutModel",
            "justify_items": null,
            "grid_row": null,
            "max_height": null,
            "align_content": null,
            "visibility": null,
            "align_self": null,
            "height": null,
            "min_height": null,
            "padding": null,
            "grid_auto_rows": null,
            "grid_gap": null,
            "max_width": null,
            "order": null,
            "_view_module_version": "1.2.0",
            "grid_template_areas": null,
            "object_position": null,
            "object_fit": null,
            "grid_auto_columns": null,
            "margin": null,
            "display": null,
            "left": null
          }
        },
        "b580aab76311420cae712a5d01833dee": {
          "model_module": "@jupyter-widgets/controls",
          "model_name": "FloatProgressModel",
          "state": {
            "_view_name": "ProgressView",
            "style": "IPY_MODEL_121489d04e1d49caadfc8d63b6928090",
            "_dom_classes": [],
            "description": "100%",
            "_model_name": "FloatProgressModel",
            "bar_style": "success",
            "max": 5,
            "_view_module": "@jupyter-widgets/controls",
            "_model_module_version": "1.5.0",
            "value": 5,
            "_view_count": null,
            "_view_module_version": "1.5.0",
            "orientation": "horizontal",
            "min": 0,
            "description_tooltip": null,
            "_model_module": "@jupyter-widgets/controls",
            "layout": "IPY_MODEL_1ea9c17bb90d464480f6dc493b0ed2c5"
          }
        },
        "7d75006a84f749beab438e4e1b16bd8c": {
          "model_module": "@jupyter-widgets/controls",
          "model_name": "HTMLModel",
          "state": {
            "_view_name": "HTMLView",
            "style": "IPY_MODEL_687aae7c14be44499dc7b6a36307d530",
            "_dom_classes": [],
            "description": "",
            "_model_name": "HTMLModel",
            "placeholder": "​",
            "_view_module": "@jupyter-widgets/controls",
            "_model_module_version": "1.5.0",
            "value": " 5/5 [05:17&lt;00:00, 63.48s/it]",
            "_view_count": null,
            "_view_module_version": "1.5.0",
            "description_tooltip": null,
            "_model_module": "@jupyter-widgets/controls",
            "layout": "IPY_MODEL_d395a01a67e94eb78728431c0205d177"
          }
        },
        "121489d04e1d49caadfc8d63b6928090": {
          "model_module": "@jupyter-widgets/controls",
          "model_name": "ProgressStyleModel",
          "state": {
            "_view_name": "StyleView",
            "_model_name": "ProgressStyleModel",
            "description_width": "initial",
            "_view_module": "@jupyter-widgets/base",
            "_model_module_version": "1.5.0",
            "_view_count": null,
            "_view_module_version": "1.2.0",
            "bar_color": null,
            "_model_module": "@jupyter-widgets/controls"
          }
        },
        "1ea9c17bb90d464480f6dc493b0ed2c5": {
          "model_module": "@jupyter-widgets/base",
          "model_name": "LayoutModel",
          "state": {
            "_view_name": "LayoutView",
            "grid_template_rows": null,
            "right": null,
            "justify_content": null,
            "_view_module": "@jupyter-widgets/base",
            "overflow": null,
            "_model_module_version": "1.2.0",
            "_view_count": null,
            "flex_flow": null,
            "width": null,
            "min_width": null,
            "border": null,
            "align_items": null,
            "bottom": null,
            "_model_module": "@jupyter-widgets/base",
            "top": null,
            "grid_column": null,
            "overflow_y": null,
            "overflow_x": null,
            "grid_auto_flow": null,
            "grid_area": null,
            "grid_template_columns": null,
            "flex": null,
            "_model_name": "LayoutModel",
            "justify_items": null,
            "grid_row": null,
            "max_height": null,
            "align_content": null,
            "visibility": null,
            "align_self": null,
            "height": null,
            "min_height": null,
            "padding": null,
            "grid_auto_rows": null,
            "grid_gap": null,
            "max_width": null,
            "order": null,
            "_view_module_version": "1.2.0",
            "grid_template_areas": null,
            "object_position": null,
            "object_fit": null,
            "grid_auto_columns": null,
            "margin": null,
            "display": null,
            "left": null
          }
        },
        "687aae7c14be44499dc7b6a36307d530": {
          "model_module": "@jupyter-widgets/controls",
          "model_name": "DescriptionStyleModel",
          "state": {
            "_view_name": "StyleView",
            "_model_name": "DescriptionStyleModel",
            "description_width": "",
            "_view_module": "@jupyter-widgets/base",
            "_model_module_version": "1.5.0",
            "_view_count": null,
            "_view_module_version": "1.2.0",
            "_model_module": "@jupyter-widgets/controls"
          }
        },
        "d395a01a67e94eb78728431c0205d177": {
          "model_module": "@jupyter-widgets/base",
          "model_name": "LayoutModel",
          "state": {
            "_view_name": "LayoutView",
            "grid_template_rows": null,
            "right": null,
            "justify_content": null,
            "_view_module": "@jupyter-widgets/base",
            "overflow": null,
            "_model_module_version": "1.2.0",
            "_view_count": null,
            "flex_flow": null,
            "width": null,
            "min_width": null,
            "border": null,
            "align_items": null,
            "bottom": null,
            "_model_module": "@jupyter-widgets/base",
            "top": null,
            "grid_column": null,
            "overflow_y": null,
            "overflow_x": null,
            "grid_auto_flow": null,
            "grid_area": null,
            "grid_template_columns": null,
            "flex": null,
            "_model_name": "LayoutModel",
            "justify_items": null,
            "grid_row": null,
            "max_height": null,
            "align_content": null,
            "visibility": null,
            "align_self": null,
            "height": null,
            "min_height": null,
            "padding": null,
            "grid_auto_rows": null,
            "grid_gap": null,
            "max_width": null,
            "order": null,
            "_view_module_version": "1.2.0",
            "grid_template_areas": null,
            "object_position": null,
            "object_fit": null,
            "grid_auto_columns": null,
            "margin": null,
            "display": null,
            "left": null
          }
        },
        "8dde956640f847af94b0221ea96c94ad": {
          "model_module": "@jupyter-widgets/controls",
          "model_name": "HBoxModel",
          "state": {
            "_view_name": "HBoxView",
            "_dom_classes": [],
            "_model_name": "HBoxModel",
            "_view_module": "@jupyter-widgets/controls",
            "_model_module_version": "1.5.0",
            "_view_count": null,
            "_view_module_version": "1.5.0",
            "box_style": "",
            "layout": "IPY_MODEL_ae67657c455b472697c02cce9e658734",
            "_model_module": "@jupyter-widgets/controls",
            "children": [
              "IPY_MODEL_7e83d79b9143414f9b479e2d68bd69b7",
              "IPY_MODEL_a5a79c521669480cbdcc6162c8016b12"
            ]
          }
        },
        "ae67657c455b472697c02cce9e658734": {
          "model_module": "@jupyter-widgets/base",
          "model_name": "LayoutModel",
          "state": {
            "_view_name": "LayoutView",
            "grid_template_rows": null,
            "right": null,
            "justify_content": null,
            "_view_module": "@jupyter-widgets/base",
            "overflow": null,
            "_model_module_version": "1.2.0",
            "_view_count": null,
            "flex_flow": null,
            "width": null,
            "min_width": null,
            "border": null,
            "align_items": null,
            "bottom": null,
            "_model_module": "@jupyter-widgets/base",
            "top": null,
            "grid_column": null,
            "overflow_y": null,
            "overflow_x": null,
            "grid_auto_flow": null,
            "grid_area": null,
            "grid_template_columns": null,
            "flex": null,
            "_model_name": "LayoutModel",
            "justify_items": null,
            "grid_row": null,
            "max_height": null,
            "align_content": null,
            "visibility": null,
            "align_self": null,
            "height": null,
            "min_height": null,
            "padding": null,
            "grid_auto_rows": null,
            "grid_gap": null,
            "max_width": null,
            "order": null,
            "_view_module_version": "1.2.0",
            "grid_template_areas": null,
            "object_position": null,
            "object_fit": null,
            "grid_auto_columns": null,
            "margin": null,
            "display": null,
            "left": null
          }
        },
        "7e83d79b9143414f9b479e2d68bd69b7": {
          "model_module": "@jupyter-widgets/controls",
          "model_name": "FloatProgressModel",
          "state": {
            "_view_name": "ProgressView",
            "style": "IPY_MODEL_c8f639014a9b4dfb887f4168650ed679",
            "_dom_classes": [],
            "description": "  0%",
            "_model_name": "FloatProgressModel",
            "bar_style": "",
            "max": 10,
            "_view_module": "@jupyter-widgets/controls",
            "_model_module_version": "1.5.0",
            "value": 0,
            "_view_count": null,
            "_view_module_version": "1.5.0",
            "orientation": "horizontal",
            "min": 0,
            "description_tooltip": null,
            "_model_module": "@jupyter-widgets/controls",
            "layout": "IPY_MODEL_f6e44c4daf3c4b8991eea1256cc8cd44"
          }
        },
        "a5a79c521669480cbdcc6162c8016b12": {
          "model_module": "@jupyter-widgets/controls",
          "model_name": "HTMLModel",
          "state": {
            "_view_name": "HTMLView",
            "style": "IPY_MODEL_ce757e74e86e4aa180424e6f915b568d",
            "_dom_classes": [],
            "description": "",
            "_model_name": "HTMLModel",
            "placeholder": "​",
            "_view_module": "@jupyter-widgets/controls",
            "_model_module_version": "1.5.0",
            "value": " 0/10 [00:00&lt;?, ?it/s]",
            "_view_count": null,
            "_view_module_version": "1.5.0",
            "description_tooltip": null,
            "_model_module": "@jupyter-widgets/controls",
            "layout": "IPY_MODEL_4c0484fb350e48979e01a3167e2eee61"
          }
        },
        "c8f639014a9b4dfb887f4168650ed679": {
          "model_module": "@jupyter-widgets/controls",
          "model_name": "ProgressStyleModel",
          "state": {
            "_view_name": "StyleView",
            "_model_name": "ProgressStyleModel",
            "description_width": "initial",
            "_view_module": "@jupyter-widgets/base",
            "_model_module_version": "1.5.0",
            "_view_count": null,
            "_view_module_version": "1.2.0",
            "bar_color": null,
            "_model_module": "@jupyter-widgets/controls"
          }
        },
        "f6e44c4daf3c4b8991eea1256cc8cd44": {
          "model_module": "@jupyter-widgets/base",
          "model_name": "LayoutModel",
          "state": {
            "_view_name": "LayoutView",
            "grid_template_rows": null,
            "right": null,
            "justify_content": null,
            "_view_module": "@jupyter-widgets/base",
            "overflow": null,
            "_model_module_version": "1.2.0",
            "_view_count": null,
            "flex_flow": null,
            "width": null,
            "min_width": null,
            "border": null,
            "align_items": null,
            "bottom": null,
            "_model_module": "@jupyter-widgets/base",
            "top": null,
            "grid_column": null,
            "overflow_y": null,
            "overflow_x": null,
            "grid_auto_flow": null,
            "grid_area": null,
            "grid_template_columns": null,
            "flex": null,
            "_model_name": "LayoutModel",
            "justify_items": null,
            "grid_row": null,
            "max_height": null,
            "align_content": null,
            "visibility": null,
            "align_self": null,
            "height": null,
            "min_height": null,
            "padding": null,
            "grid_auto_rows": null,
            "grid_gap": null,
            "max_width": null,
            "order": null,
            "_view_module_version": "1.2.0",
            "grid_template_areas": null,
            "object_position": null,
            "object_fit": null,
            "grid_auto_columns": null,
            "margin": null,
            "display": null,
            "left": null
          }
        },
        "ce757e74e86e4aa180424e6f915b568d": {
          "model_module": "@jupyter-widgets/controls",
          "model_name": "DescriptionStyleModel",
          "state": {
            "_view_name": "StyleView",
            "_model_name": "DescriptionStyleModel",
            "description_width": "",
            "_view_module": "@jupyter-widgets/base",
            "_model_module_version": "1.5.0",
            "_view_count": null,
            "_view_module_version": "1.2.0",
            "_model_module": "@jupyter-widgets/controls"
          }
        },
        "4c0484fb350e48979e01a3167e2eee61": {
          "model_module": "@jupyter-widgets/base",
          "model_name": "LayoutModel",
          "state": {
            "_view_name": "LayoutView",
            "grid_template_rows": null,
            "right": null,
            "justify_content": null,
            "_view_module": "@jupyter-widgets/base",
            "overflow": null,
            "_model_module_version": "1.2.0",
            "_view_count": null,
            "flex_flow": null,
            "width": null,
            "min_width": null,
            "border": null,
            "align_items": null,
            "bottom": null,
            "_model_module": "@jupyter-widgets/base",
            "top": null,
            "grid_column": null,
            "overflow_y": null,
            "overflow_x": null,
            "grid_auto_flow": null,
            "grid_area": null,
            "grid_template_columns": null,
            "flex": null,
            "_model_name": "LayoutModel",
            "justify_items": null,
            "grid_row": null,
            "max_height": null,
            "align_content": null,
            "visibility": null,
            "align_self": null,
            "height": null,
            "min_height": null,
            "padding": null,
            "grid_auto_rows": null,
            "grid_gap": null,
            "max_width": null,
            "order": null,
            "_view_module_version": "1.2.0",
            "grid_template_areas": null,
            "object_position": null,
            "object_fit": null,
            "grid_auto_columns": null,
            "margin": null,
            "display": null,
            "left": null
          }
        }
      }
    }
  },
  "cells": [
    {
      "cell_type": "markdown",
      "metadata": {
        "id": "view-in-github",
        "colab_type": "text"
      },
      "source": [
        "<a href=\"https://colab.research.google.com/github/ChengyangHuang/Divergence-Estimation/blob/main/codes/Nonparametric_Divergence_Estimation.ipynb\" target=\"_parent\"><img src=\"https://colab.research.google.com/assets/colab-badge.svg\" alt=\"Open In Colab\"/></a>"
      ]
    },
    {
      "cell_type": "markdown",
      "metadata": {
        "id": "scqcu0WWjjS3"
      },
      "source": [
        "# Divergence Estimator\n",
        "\n",
        "TODOes\n",
        "- Implement more methods"
      ]
    },
    {
      "cell_type": "code",
      "metadata": {
        "id": "x6Ak01I0Zkl4"
      },
      "source": [
        "import numpy as np\n",
        "import math\n",
        "\n",
        "from scipy.spatial import distance_matrix\n",
        "from scipy.special import gamma\n",
        "\n",
        "from sklearn.neighbors import KernelDensity\n",
        "from sklearn.neighbors import NearestNeighbors\n",
        "\n",
        "import cvxpy as cp \n",
        "\n",
        "from tqdm.notebook import  tqdm\n",
        "import matplotlib.pyplot as plt\n",
        "\n",
        "import warnings\n",
        "warnings.filterwarnings('ignore')\n",
        "\n",
        "\n",
        "class divergence_estimator():\n",
        "    def __init__(self, rvs_1, rvs_2):\n",
        "        assert rvs_1.shape[1] == rvs_2.shape[1]\n",
        "        self.rvs_1 = rvs_1\n",
        "        self.rvs_2 = rvs_2\n",
        "        self.N = rvs_1.shape[0]\n",
        "        self.M = rvs_2.shape[0]\n",
        "        self.d = rvs_1.shape[1]\n",
        "        \n",
        "\n",
        "    def kl_intg(self):\n",
        "        pass\n",
        "\n",
        "    def renyi_alpha_integral(self):\n",
        "        pass\n",
        "\n",
        "    def renyi_alpha_divergence(self):\n",
        "        pass\n"
      ],
      "execution_count": 305,
      "outputs": []
    },
    {
      "cell_type": "markdown",
      "metadata": {
        "id": "Z93NQcQhmhAy"
      },
      "source": [
        "## k-NN Methods\n"
      ]
    },
    {
      "cell_type": "code",
      "metadata": {
        "id": "PY7xF-FzmkQM"
      },
      "source": [
        "class knn_estimator(divergence_estimator):\n",
        "    def __init__(self, rvs_1, rvs_2, n_neighbors):\n",
        "        super().__init__(rvs_1, rvs_2)\n",
        "        self.k = n_neighbors\n",
        "\n",
        "    def kl_intg(self):\n",
        "        pass\n",
        "\n",
        "    def renyi_alpha_integral(self, alpha=0.5, fast=True):\n",
        "        \"\"\"\n",
        "            Nonparametric Divergence Estimation with Applications to Machine Learning on Distributions\n",
        "            https://arxiv.org/abs/1202.3758\n",
        "        \"\"\"\n",
        "\n",
        "        B = gamma(self.k)**2 / (gamma(self.k - alpha + 1) * gamma(self.k + alpha - 1))\n",
        "        if fast:\n",
        "            self.knn_1 = NearestNeighbors(n_neighbors=self.k, algorithm='auto').fit(self.rvs_1)\n",
        "            self.knn_2 = NearestNeighbors(n_neighbors=self.k, algorithm='auto').fit(self.rvs_2)\n",
        "            rho = self.knn_1.kneighbors(self.rvs_1)[0][:, -1]\n",
        "            nu = self.knn_2.kneighbors(self.rvs_1)[0][:, -1]\n",
        "        else:\n",
        "            dist_mat_11 = distance_matrix(self.rvs_1, self.rvs_1)\n",
        "            dist_mat_12 = distance_matrix(self.rvs_1, self.rvs_2)\n",
        "            dist_mat_11.sort(axis=1)\n",
        "            dist_mat_12.sort(axis=1)\n",
        "            rho = dist_mat_11[:, self.k]\n",
        "            nu = dist_mat_12[:, self.k-1]\n",
        "\n",
        "        renyi_alpha = B / self.N * np.sum(np.divide((self.N-1)*rho**self.d, self.M*nu**self.d)**(1-alpha))\n",
        "        return renyi_alpha"
      ],
      "execution_count": 306,
      "outputs": []
    },
    {
      "cell_type": "markdown",
      "metadata": {
        "id": "h4Il7_rGmkge"
      },
      "source": [
        "## Ensemble Methods"
      ]
    },
    {
      "cell_type": "code",
      "metadata": {
        "id": "-upNKiPjmwW4"
      },
      "source": [
        "class EnDive(divergence_estimator):\n",
        "    def __init__(self, rvs_1, rvs_2, kmin, kmax, L):\n",
        "        super().__init__(rvs_1, rvs_2)\n",
        "        self.kmin = kmin\n",
        "        self.kmax = kmax\n",
        "        self.L = L\n",
        "    \n",
        "    def construct_L_set(self):\n",
        "        pass\n",
        "\n",
        "    def find_optimal_weight(self):\n",
        "        pass"
      ],
      "execution_count": 307,
      "outputs": []
    },
    {
      "cell_type": "markdown",
      "metadata": {
        "id": "yJzbweoimvsn"
      },
      "source": [
        "### Ensemble KNN\n",
        "\n"
      ]
    },
    {
      "cell_type": "code",
      "metadata": {
        "id": "2w2dl3e7m2iZ"
      },
      "source": [
        "class EnDive_KNN(EnDive):\n",
        "    def __init__(self, rvs_1, rvs_2, kmin=1, kmax=40, L=60, alpha_frac=0.5):\n",
        "        super().__init__(rvs_1, rvs_2, kmin, kmax, L)\n",
        "        self.M_2 = int(alpha_frac*self.N)\n",
        "        idx1 = np.random.choice(self.N, self.M_2, replace=False)\n",
        "        idx2 = np.delete(np.arange(self.N), idx1)\n",
        "        self.rvs_11 = self.rvs_1[idx1, :]\n",
        "        self.rvs_12 = self.rvs_1[idx2, :]\n",
        "\n",
        "        self.construct_L_set(self.M_2)\n",
        "        self.find_optimal_weight()\n",
        "\n",
        "    def construct_L_set(self, M_2):\n",
        "        M_2_sqrt = math.sqrt(M_2)\n",
        "        self.L_set = np.linspace(self.kmin/M_2_sqrt, self.kmax/M_2_sqrt, self.L)\n",
        "        self.k_set = np.int_(np.ceil(self.L_set * M_2_sqrt))\n",
        "\n",
        "    def find_optimal_weight(self):\n",
        "        psi = lambda i: self.L_set[np.newaxis, :] ** (i / self.d)\n",
        "        J = np.arange(1, self.d)\n",
        "\n",
        "        w = cp.Variable(self.L)\n",
        "        objective = cp.Minimize(cp.norm(w, 2))\n",
        "        constraints = [np.ones((1, self.L)) @ w == 1]\n",
        "        for i in J:\n",
        "            constraints.append(psi(i) @ w <= 0.1)\n",
        "        problem = cp.Problem(objective, constraints)\n",
        "        problem.solve()\n",
        "        self.weight = w.value\n",
        "        # print(self.weight)\n",
        "\n",
        "    def renyi_alpha_integral(self, alpha):\n",
        "        renyi_knn = []\n",
        "        for l, k in zip(self.L_set, self.k_set):\n",
        "            self.knn_1 = NearestNeighbors(n_neighbors=k, algorithm='auto').fit(self.rvs_11)\n",
        "            self.knn_2 = NearestNeighbors(n_neighbors=k, algorithm='auto').fit(self.rvs_2)\n",
        "            rho = self.knn_1.kneighbors(self.rvs_12)[0][:, -1]\n",
        "            nu = self.knn_2.kneighbors(self.rvs_12)[0][:, -1]\n",
        "            f1_pdf = k / self.M_2 / np.pi**(self.d/2) * gamma(self.d/2+1) / rho**self.d\n",
        "            f2_pdf = k / self.M / np.pi**(self.d/2) * gamma(self.d/2+1) / nu**self.d\n",
        "            renyi_knn.append(np.dot((f1_pdf ** alpha), (f2_pdf ** (1-alpha))) / (self.N - self.M_2))\n",
        "            # knn_est = knn_estimator(self.rvs_1, self.rvs_2, n_neighbors=k)\n",
        "            # renyi_knn.append(knn_est.renyi_alpha_integral(alpha, fast=True))\n",
        "        renyi_knn = np.array(renyi_knn)\n",
        "        # print(renyi_knn)\n",
        "        renyi_EnDive = np.dot(self.weight, renyi_knn)\n",
        "        return renyi_EnDive"
      ],
      "execution_count": 308,
      "outputs": []
    },
    {
      "cell_type": "markdown",
      "metadata": {
        "id": "N3DugSolm23u"
      },
      "source": [
        "### Ensemble KDE"
      ]
    },
    {
      "cell_type": "code",
      "metadata": {
        "id": "WGo8Oe3Wmom9"
      },
      "source": [
        "class EnDive_KDE(EnDive):\n",
        "    \"\"\"\n",
        "        Ensemble estimation of information divergence\n",
        "        https://www.mdpi.com/1099-4300/20/8/560\n",
        "    \"\"\"\n",
        "    def __init__(self, rvs_1, rvs_2, kmin=1, kmax=60, L=60, eta=1, delta=1):\n",
        "        super().__init__(rvs_1, rvs_2, kmin, kmax, L)\n",
        "        self.eta = eta\n",
        "        self.delta = delta\n",
        "        \n",
        "        self.construct_L_set()\n",
        "        self.find_optimal_weight()\n",
        "\n",
        "    def construct_L_set(self):\n",
        "        rvs_all = np.vstack((self.rvs_1, self.rvs_2))\n",
        "        neigh_dist = NearestNeighbors(n_neighbors=self.kmax).fit(rvs_all).kneighbors()[0]\n",
        "        lmin = neigh_dist[:, self.kmin].max() / (self.N ** (-1 / (self.d + self.delta)))\n",
        "        lmax = neigh_dist[:, -1].max() / (self.N ** (-1 / (self.d + self.delta)))\n",
        "        self.L_set = np.linspace(lmin, lmax, self.L)\n",
        "\n",
        "    def find_optimal_weight(self):\n",
        "        lam = math.ceil(self.d / self.delta) + 1\n",
        "        s = math.ceil((self.d + self.delta) / 2) \n",
        "        eps = cp.Variable()\n",
        "        w = cp.Variable(self.L)\n",
        "        objective = cp.Minimize(eps)\n",
        "        constraints = [np.ones((1, self.L)) @ w == 1,\n",
        "                       cp.norm(w, 2) ** 2 <= self.eta * eps]\n",
        "\n",
        "        for q in range(math.ceil(lam / 2) + 1):\n",
        "            for j in range(s+1):\n",
        "                if (j + q) > 0 and (j + q) < ((self.d + 1) / 2):\n",
        "                    constraints.append(self.N ** (-(j+q)/(self.d+1) + 1/2) * (w @ (self.L_set**(j - self.d * q)) ) <= eps)\n",
        "\n",
        "        problem = cp.Problem(objective, constraints)\n",
        "        problem.solve() \n",
        "        self.weight = w.value\n",
        "\n",
        "    def renyi_alpha_integral(self, alpha=0.5, kernel='tophat'):\n",
        "        renyi_KDE = []\n",
        "        for l in self.L_set:\n",
        "            kde_1 = KernelDensity(kernel=kernel, bandwidth=(l*self.N**(-1/(self.d+self.delta)))).fit(self.rvs_1)\n",
        "            kde_2 = KernelDensity(kernel=kernel, bandwidth=(l*self.N**(-1/(self.d+self.delta)))).fit(self.rvs_2)\n",
        "            f1_pdf = np.exp(kde_1.score_samples(self.rvs_1))\n",
        "            f2_pdf = np.exp(kde_2.score_samples(self.rvs_1))\n",
        "            renyi_KDE.append(np.dot((f1_pdf ** alpha), (f2_pdf ** (1-alpha))) / self.N)\n",
        "\n",
        "        renyi_KDE = np.array(renyi_KDE)\n",
        "        renyi_EnDive = np.dot(self.weight, renyi_KDE)\n",
        "        return renyi_EnDive, renyi_KDE"
      ],
      "execution_count": 309,
      "outputs": []
    },
    {
      "cell_type": "markdown",
      "metadata": {
        "id": "V8AYM9WSjp4H"
      },
      "source": [
        "# Experiments\n",
        "\n",
        "TODOes:\n",
        "- Save results (using pandas or csv)\n",
        "- More sophiscated Distribution\n",
        "- KL Divergence and others"
      ]
    },
    {
      "cell_type": "markdown",
      "metadata": {
        "id": "ningnvjrlEh7"
      },
      "source": [
        "## Convergence Rates Validation: Rényi-α Divergence"
      ]
    },
    {
      "cell_type": "markdown",
      "metadata": {
        "id": "I2iSBB_3nh3D"
      },
      "source": [
        "### Truncated Gaussian"
      ]
    },
    {
      "cell_type": "code",
      "metadata": {
        "colab": {
          "base_uri": "https://localhost:8080/"
        },
        "id": "Tt66cYjejis_",
        "outputId": "3ca9642f-8c62-423f-b85a-1655acb2ebec"
      },
      "source": [
        "from scipy.stats import truncnorm\n",
        "import scipy.integrate as integrate    \n",
        "\n",
        "\n",
        "def renyi_alpha_div_integral(alpha, p, q, a, b, N=None):\n",
        "    if N == None:\n",
        "        return integrate.quad(lambda x: (p(x) ** alpha) * (q(x) ** (1 - alpha)), a, b)\n",
        "    else:\n",
        "        x = np.linspace(a, b, N)\n",
        "        return np.dot(p(x) ** alpha, q(x) ** (1 - alpha)) / N\n",
        "\n",
        "\n",
        "def kl_div_integral(p, q, a, b, N=None):\n",
        "    if N == None:\n",
        "        return integrate.quad(lambda x: p(x) * math.log(p(x)/q(x)), a, b)\n",
        "    else:\n",
        "       x = np.linspace(a, b, N)\n",
        "       return np.dot(p(x), np.log(p(x)/q(x))) / N\n",
        "\n",
        "\n",
        "def truncated_Gaussian_experiment(d=5, N=2000, \n",
        "                                  mu_1=0.7, sigma_1=np.sqrt(0.4),\n",
        "                                  mu_2=0.3, sigma_2=np.sqrt(0.4),\n",
        "                                  a=0, b=1, plot=False):\n",
        "    \n",
        "    a_1, b_1 = (a - mu_1) / sigma_1, (b - mu_1) / sigma_1\n",
        "    a_2, b_2 = (a - mu_2) / sigma_2, (b - mu_2) / sigma_2\n",
        "\n",
        "    f_1 = truncnorm(a_1, b_1, mu_1, sigma_1)\n",
        "    f_2 = truncnorm(a_2, b_2, mu_2, sigma_2)\n",
        "    rvs_1 = f_1.rvs(size=(N, d))\n",
        "    rvs_2 = f_2.rvs(size=(N, d))\n",
        "\n",
        "    # Plot pdf\n",
        "    if plot:\n",
        "        x = np.linspace(a, b, 1000)\n",
        "        pdf_1 = f_1.pdf(x)\n",
        "        pdf_2 = f_2.pdf(x)\n",
        "        fig, ax = plt.subplots(1, 1)\n",
        "        ax.plot(x, f_1.pdf(x), label='f1')\n",
        "        ax.plot(x, f_2.pdf(x), label='f2')\n",
        "        ax.set_ylabel(\"pdf\")\n",
        "        ax.legend()\n",
        "\n",
        "    # Renyi-alpha\n",
        "    renyi_alpha_dict = {}\n",
        "    alpha = 0.5 \n",
        "    renyi_alpha_dict[\"GT_integral\"] = renyi_alpha_div_integral(alpha, f_1.pdf, f_2. pdf, a, b)[0]**d\n",
        "    renyi_alpha_dict[\"GT_numerial_est\"] = renyi_alpha_div_integral(alpha, f_1.pdf, f_2. pdf, a, b, N)**d\n",
        "    \n",
        "    knn_est = knn_estimator(rvs_1, rvs_2, n_neighbors=20)\n",
        "    renyi_alpha_dict[\"KNN_fast\"] = knn_est.renyi_alpha_integral(alpha, fast=True)\n",
        "    renyi_alpha_dict[\"KNN_brute\"] = knn_est.renyi_alpha_integral(alpha, fast=False)\n",
        "    \n",
        "    endiveKDE_est = EnDive_KDE(rvs_1, rvs_2, kmax=60)\n",
        "    renyi_endiveKDE, renyi_KDE = endiveKDE_est.renyi_alpha_integral(alpha)\n",
        "    renyi_alpha_dict[\"EnDive_KDE\"] = renyi_endiveKDE\n",
        "    renyi_alpha_dict[\"KDE_best\"] = renyi_KDE[((renyi_KDE - renyi_alpha_dict[\"GT_integral\"])**2).argmin()]\n",
        "\n",
        "    endiveKNN_est = EnDive_KNN(rvs_1, rvs_2, kmin=10, kmax=60, L=50)\n",
        "    renyi_alpha_dict[\"EnDive_KNN\"] = endiveKNN_est.renyi_alpha_integral(alpha)\n",
        "\n",
        "    # KL\n",
        "    kl_gt1 = kl_div_integral(f_1.pdf, f_2. pdf, a, b)[0]\n",
        "    kl_gt2 = kl_div_integral(f_1.pdf, f_2. pdf, a, b, 1000)\n",
        "\n",
        "    return renyi_alpha_dict\n",
        "\n",
        "\n",
        "truncated_Gaussian_experiment()"
      ],
      "execution_count": 310,
      "outputs": [
        {
          "output_type": "execute_result",
          "data": {
            "text/plain": [
              "{'EnDive_KDE': 0.8908949737528011,\n",
              " 'EnDive_KNN': 1.064500437638616,\n",
              " 'GT_integral': 0.9533316996544592,\n",
              " 'GT_numerial_est': 0.9528751587084865,\n",
              " 'KDE_best': 0.6715666350567316,\n",
              " 'KNN_brute': 0.966575778499174,\n",
              " 'KNN_fast': 0.9397638156369582}"
            ]
          },
          "metadata": {
            "tags": []
          },
          "execution_count": 310
        }
      ]
    },
    {
      "cell_type": "code",
      "metadata": {
        "colab": {
          "base_uri": "https://localhost:8080/",
          "height": 457,
          "referenced_widgets": [
            "2f76a4ebdf664b0989a41ae66f43a9fa",
            "600c51ebf7434e3bb510cb2929d8ff6c",
            "b580aab76311420cae712a5d01833dee",
            "7d75006a84f749beab438e4e1b16bd8c",
            "121489d04e1d49caadfc8d63b6928090",
            "1ea9c17bb90d464480f6dc493b0ed2c5",
            "687aae7c14be44499dc7b6a36307d530",
            "d395a01a67e94eb78728431c0205d177"
          ]
        },
        "id": "xpSKfI4mY0Jh",
        "outputId": "feffd939-d3b1-4149-f7c2-64ccaf616982"
      },
      "source": [
        "def convergence_validation():\n",
        "    d_list = [5]\n",
        "    N_list = [200, 500, 1000, 5000, 10000]\n",
        "\n",
        "    for d in d_list:\n",
        "        result_dict = {}\n",
        "        for N in tqdm(N_list):\n",
        "            renyi_alpha_dict = truncated_Gaussian_experiment(d, N)\n",
        "            for key, value in renyi_alpha_dict.items():\n",
        "                if key in result_dict.keys():\n",
        "                    result_dict[key].append(renyi_alpha_dict[key])\n",
        "                else:\n",
        "                    result_dict[key] = [renyi_alpha_dict[key]]\n",
        "\n",
        "        fig, ax = plt.subplots(1, 2, figsize=(12, 6))\n",
        "        for key, value in result_dict.items():\n",
        "            if key != 'GT_integral':\n",
        "                gt = np.array(result_dict['GT_integral'])\n",
        "                value = np.array(value)\n",
        "                ax[0].semilogx(N_list, value, label=key)\n",
        "                ax[1].loglog(N_list, (gt - value)**2, label=key)\n",
        "            else:\n",
        "                ax[0].semilogx(N_list, value, label=key, color=\"black\")\n",
        "        ax[0].legend()\n",
        "        ax[0].set_xlabel(\"Sample Size N\")\n",
        "        ax[0].set_ylabel(\"Renyi Alpha Integral\")\n",
        "        ax[0].set_title(f\"Dimension d = {d}\")\n",
        "\n",
        "        ax[1].legend()\n",
        "        ax[1].set_xlabel(\"Sample Size N\")\n",
        "        ax[1].set_ylabel(\"MSE\")\n",
        "        ax[1].set_title(f\"Dimension d = {d}\")\n",
        "        plt.show()\n",
        "\n",
        "\n",
        "convergence_validation()    "
      ],
      "execution_count": 311,
      "outputs": [
        {
          "output_type": "display_data",
          "data": {
            "application/vnd.jupyter.widget-view+json": {
              "model_id": "2f76a4ebdf664b0989a41ae66f43a9fa",
              "version_minor": 0,
              "version_major": 2
            },
            "text/plain": [
              "HBox(children=(FloatProgress(value=0.0, max=5.0), HTML(value='')))"
            ]
          },
          "metadata": {
            "tags": []
          }
        },
        {
          "output_type": "stream",
          "text": [
            "\n"
          ],
          "name": "stdout"
        },
        {
          "output_type": "display_data",
          "data": {
            "image/png": "[encoded data removed]",
            "text/plain": [
              "<Figure size 864x432 with 2 Axes>"
            ]
          },
          "metadata": {
            "tags": [],
            "needs_background": "light"
          }
        }
      ]
    },
    {
      "cell_type": "markdown",
      "metadata": {
        "id": "597CbCh2zUCD"
      },
      "source": [
        "## Performance on Various Distribuion"
      ]
    },
    {
      "cell_type": "markdown",
      "metadata": {
        "id": "R7frrzVIzm__"
      },
      "source": [
        "### Truncated Gaussian: Various Mean and Variance "
      ]
    },
    {
      "cell_type": "code",
      "metadata": {
        "id": "CIVqT7OPziyg",
        "colab": {
          "base_uri": "https://localhost:8080/",
          "height": 49,
          "referenced_widgets": [
            "8dde956640f847af94b0221ea96c94ad",
            "ae67657c455b472697c02cce9e658734",
            "7e83d79b9143414f9b479e2d68bd69b7",
            "a5a79c521669480cbdcc6162c8016b12",
            "c8f639014a9b4dfb887f4168650ed679",
            "f6e44c4daf3c4b8991eea1256cc8cd44",
            "ce757e74e86e4aa180424e6f915b568d",
            "4c0484fb350e48979e01a3167e2eee61"
          ]
        },
        "outputId": "00e9c5aa-8b57-4663-86bd-a335ba1a331e"
      },
      "source": [
        "def vary_distribution_params():\n",
        "    n_grid = 10\n",
        "    mean_span = np.linspace(0, 1, n_grid)\n",
        "    std_span = np.linspace(0.3, 0.7, n_grid)\n",
        "\n",
        "    result_dict = {}\n",
        "\n",
        "    for i in tqdm(range(n_grid)):\n",
        "        for j in range(n_grid):\n",
        "            mu_1 = mean_span[i]\n",
        "            mu_2 = mean_span[j]\n",
        "\n",
        "            sigma_1 = std_span[i]\n",
        "            sigma_2 = std_span[j]\n",
        "\n",
        "            renyi_alpha_dict = truncated_Gaussian_experiment(5, 2000, mu_1, sigma_1, mu_2, sigma_2)\n",
        "            \n",
        "            for key, value in renyi_alpha_dict.items():\n",
        "                if key not in result_dict.keys():\n",
        "                    result_dict[key] = [value]\n",
        "                else:\n",
        "                    result_dict[key].append(value)\n",
        "\n",
        "    fig, ax = plt.subplots(1)\n",
        "    for key, value in result_dict.items(): \n",
        "        ax.plot(value, label=key)\n",
        "    ax.legend()\n",
        "    ax.set_ylabel(\"Renyi-alpha Integral\")\n",
        "    ax.set_xlabel(\"Experiment ID.\")\n",
        "\n",
        "vary_distribution_params()"
      ],
      "execution_count": null,
      "outputs": [
        {
          "output_type": "display_data",
          "data": {
            "application/vnd.jupyter.widget-view+json": {
              "model_id": "8dde956640f847af94b0221ea96c94ad",
              "version_minor": 0,
              "version_major": 2
            },
            "text/plain": [
              "HBox(children=(FloatProgress(value=0.0, max=10.0), HTML(value='')))"
            ]
          },
          "metadata": {
            "tags": []
          }
        }
      ]
    }
  ]
}